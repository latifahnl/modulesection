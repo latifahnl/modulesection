{
  "cells": [
    {
      "cell_type": "markdown",
      "metadata": {
        "id": "view-in-github",
        "colab_type": "text"
      },
      "source": [
        "<a href=\"https://colab.research.google.com/github/latifahnl/modulesection/blob/kmmodule/DQL_Cartpole_2.ipynb\" target=\"_parent\"><img src=\"https://colab.research.google.com/assets/colab-badge.svg\" alt=\"Open In Colab\"/></a>"
      ]
    },
    {
      "cell_type": "code",
      "execution_count": null,
      "metadata": {
        "id": "IQd00eaaf53-"
      },
      "outputs": [],
      "source": [
        "# !pip install score\n",
        "# https://gsurma.medium.com/cartpole-introduction-to-reinforcement-learning-ed0eb5b58288"
      ]
    },
    {
      "cell_type": "code",
      "execution_count": null,
      "metadata": {
        "id": "o-dP9nwjVGmn"
      },
      "outputs": [],
      "source": [
        "import random\n",
        "import gym\n",
        "import math\n",
        "import numpy as np\n",
        "import matplotlib.pyplot as plt\n",
        "from collections import deque\n",
        "from keras.models import Sequential\n",
        "from keras.layers import Dense\n",
        "#from keras.optimizers import Adam\n",
        "from tensorflow.keras.optimizers import Adam\n",
        "\n",
        "# from scores.score_logger import ScoreLogger\n",
        "\n",
        "ENV_NAME = \"CartPole-v1\"\n",
        "\n",
        "GAMMA = 0.95\n",
        "LEARNING_RATE = 0.001\n",
        "\n",
        "MEMORY_SIZE = 1000000\n",
        "BATCH_SIZE = 20\n",
        "\n",
        "EXPLORATION_MAX = 1.0 #epsilon max\n",
        "EXPLORATION_MIN = 0.01 #epsilon min\n",
        "EXPLORATION_DECAY = 0.995"
      ]
    },
    {
      "cell_type": "code",
      "execution_count": null,
      "metadata": {
        "id": "TRLxoXtdVefh"
      },
      "outputs": [],
      "source": [
        "class DQNSolver:\n",
        "  def __init__(self, observation_space, action_space):\n",
        "    self.exploration_rate = EXPLORATION_MAX\n",
        "    \n",
        "    self.action_space = action_space\n",
        "    self.memory = deque(maxlen=MEMORY_SIZE)\n",
        "\n",
        "    self.model = Sequential()\n",
        "    self.model.add(Dense(24, input_shape=(observation_space, ), activation=\"relu\"))\n",
        "    self.model.add(Dense(24, activation=\"relu\"))\n",
        "    self.model.add(Dense(self.action_space, activation=\"linear\"))\n",
        "    # model.compile(optimizer=tf.keras.optimizers.Adam(learning_rate=1e-3),\n",
        "    self.model.compile(loss=\"mse\", optimizer=Adam(learning_rate=LEARNING_RATE))\n",
        "  \n",
        "  def remember(self, state, action, reward, next_state, done):\n",
        "    self.memory.append((state, action, reward, next_state, done))\n",
        "\n",
        "  # choose if we want to explore or use the neural net\n",
        "  def act(self, state):\n",
        "    if np.random.rand() < self.exploration_rate:\n",
        "      return random.randrange(self.action_space)\n",
        "    q_values = self.model.predict(state)\n",
        "    return np.argmax(q_values[0])\n",
        "\n",
        "  # Replay Memory in Experience Replay\n",
        "  def experience_replay(self):\n",
        "    if len(self.memory) < BATCH_SIZE:\n",
        "      return\n",
        "    batch = random.sample(self.memory, BATCH_SIZE)\n",
        "    for state, action, reward, state_next, terminal in batch:\n",
        "      q_update = reward\n",
        "      if not terminal:\n",
        "        q_update = reward + GAMMA * np.amax(self.model.predict(state_next)[0])\n",
        "      q_values = self.model.predict(state)\n",
        "      q_values[0][action] = q_update\n",
        "      self.model.fit(state, q_values, verbose=0)\n",
        "    self.exploration_rate *= EXPLORATION_DECAY\n",
        "    self.exploration_rate = max(EXPLORATION_MIN, self.exploration_rate)"
      ]
    },
    {
      "cell_type": "code",
      "execution_count": null,
      "metadata": {
        "id": "WBqbZjUEe3Io"
      },
      "outputs": [],
      "source": [
        "def cartpole(max_run = 3):\n",
        "    env = gym.make(ENV_NAME)\n",
        "    #score_logger = ScoreLogger(ENV_NAME)\n",
        "    observation_space = env.observation_space.shape[0]\n",
        "    action_space = env.action_space.n\n",
        "    dqn_solver = DQNSolver(observation_space, action_space)\n",
        "    run = 0\n",
        "    score = []\n",
        "    lcpos = [] # longest episode cart position\n",
        "    lcvel = [] # longest episode cart velocity\n",
        "    lpangl = [] # longest episode pole angle\n",
        "    #max_run = 3\n",
        "    while True:\n",
        "        run += 1\n",
        "        state = env.reset()\n",
        "        state = np.reshape(state, [1, observation_space])\n",
        "        step = 0\n",
        "        cpos = []\n",
        "        cvel = []\n",
        "        pangl = []\n",
        "        cpos.append(state[0,0])\n",
        "        cvel.append(state[0,1])\n",
        "        pangl.append(state[0,2])\n",
        "        while True:\n",
        "            step += 1\n",
        "            #env.render()\n",
        "            action = dqn_solver.act(state)\n",
        "            state_next, reward, terminal, info = env.step(action)\n",
        "            cpos.append(state_next[0])\n",
        "            cvel.append(state_next[1])\n",
        "            pangl.append(math.degrees(state_next[2]))\n",
        "            reward = reward if not terminal else -reward\n",
        "            state_next = np.reshape(state_next, [1, observation_space])\n",
        "            dqn_solver.remember(state, action, reward, state_next, terminal)\n",
        "            state = state_next\n",
        "            if terminal:\n",
        "                print (\"Episode: \"+str(run)+\n",
        "                       \", exploration: \"+str(round(dqn_solver.exploration_rate, 3))+\n",
        "                       \", score: \"+str(step)+\n",
        "                       \", pos: \"+str(round(state_next[0,0], 3))+\n",
        "                       \", angle: \"+str(round(math.degrees(state_next[0,2]), 2))+\n",
        "                       \" deg\")\n",
        "                score.append(step)\n",
        "                #if cpos.size > lcpos.size:\n",
        "                if len(cpos) > len(lcpos):\n",
        "                    lcpos = cpos\n",
        "                    lcvel = cvel\n",
        "                    lpangl = pangl\n",
        "                #plt.plot(pangl)\n",
        "                #plt.plot(cvel)\n",
        "                #score_logger.add_score(step, run)\n",
        "                break\n",
        "            dqn_solver.experience_replay()\n",
        "        if run >= max_run:\n",
        "            break\n",
        "    plt.plot(score)\n",
        "    return score, lcpos, lcvel, lpangl\n",
        "    # todo: check the code for saving the longest episode cart speed, cart position, pole angle\n",
        "    # refactor the code to make one list to record angle and score?"
      ]
    },
    {
      "cell_type": "code",
      "execution_count": null,
      "metadata": {
        "colab": {
          "background_save": true,
          "base_uri": "https://localhost:8080/"
        },
        "id": "PxZvz9En7hhA",
        "outputId": "5a197d44-1ca2-4fe9-bb01-428a3e221b01"
      },
      "outputs": [
        {
          "name": "stdout",
          "output_type": "stream",
          "text": [
            "Episode: 1, exploration: 1.0, score: 14, pos: 0.168, angle: -13.78 deg\n",
            "Episode: 2, exploration: 0.956, score: 15, pos: 0.109, angle: -12.09 deg\n",
            "Episode: 3, exploration: 0.905, score: 12, pos: 0.089, angle: -12.44 deg\n",
            "Episode: 4, exploration: 0.806, score: 24, pos: 0.039, angle: -13.05 deg\n",
            "Episode: 5, exploration: 0.755, score: 14, pos: 0.123, angle: -13.46 deg\n",
            "Episode: 6, exploration: 0.701, score: 16, pos: 0.144, angle: -13.39 deg\n",
            "Episode: 7, exploration: 0.66, score: 13, pos: 0.145, angle: -13.86 deg\n",
            "Episode: 8, exploration: 0.621, score: 13, pos: 0.231, angle: -13.35 deg\n",
            "Episode: 9, exploration: 0.54, score: 29, pos: 0.061, angle: -13.31 deg\n",
            "Episode: 10, exploration: 0.511, score: 12, pos: 0.166, angle: -12.29 deg\n",
            "Episode: 11, exploration: 0.474, score: 16, pos: 0.151, angle: -13.75 deg\n",
            "Episode: 12, exploration: 0.444, score: 14, pos: 0.168, angle: -13.6 deg\n",
            "Episode: 13, exploration: 0.424, score: 10, pos: 0.155, angle: -13.82 deg\n",
            "Episode: 14, exploration: 0.369, score: 29, pos: 0.162, angle: -12.5 deg\n",
            "Episode: 15, exploration: 0.351, score: 11, pos: 0.139, angle: -12.69 deg\n",
            "Episode: 16, exploration: 0.335, score: 10, pos: 0.196, angle: -14.68 deg\n",
            "Episode: 17, exploration: 0.319, score: 11, pos: 0.197, angle: -14.02 deg\n",
            "Episode: 18, exploration: 0.305, score: 10, pos: 0.102, angle: -12.59 deg\n",
            "Episode: 19, exploration: 0.29, score: 11, pos: 0.106, angle: -13.13 deg\n",
            "Episode: 20, exploration: 0.279, score: 9, pos: 0.179, angle: -12.06 deg\n",
            "Episode: 21, exploration: 0.265, score: 11, pos: 0.255, angle: -14.29 deg\n",
            "Episode: 22, exploration: 0.251, score: 12, pos: 0.147, angle: -13.08 deg\n",
            "Episode: 23, exploration: 0.235, score: 14, pos: 0.186, angle: -12.8 deg\n",
            "Episode: 24, exploration: 0.221, score: 13, pos: 0.222, angle: -13.71 deg\n",
            "Episode: 25, exploration: 0.21, score: 11, pos: 0.089, angle: -12.08 deg\n",
            "Episode: 26, exploration: 0.203, score: 8, pos: 0.126, angle: -12.65 deg\n",
            "Episode: 27, exploration: 0.191, score: 13, pos: 0.144, angle: -14.23 deg\n",
            "Episode: 28, exploration: 0.18, score: 13, pos: 0.133, angle: -12.05 deg\n",
            "Episode: 29, exploration: 0.172, score: 10, pos: 0.218, angle: -14.9 deg\n",
            "Episode: 30, exploration: 0.161, score: 14, pos: 0.18, angle: -13.9 deg\n",
            "Episode: 31, exploration: 0.154, score: 10, pos: 0.165, angle: -12.09 deg\n",
            "Episode: 32, exploration: 0.146, score: 12, pos: 0.168, angle: -13.78 deg\n",
            "Episode: 33, exploration: 0.139, score: 10, pos: 0.178, angle: -15.04 deg\n",
            "Episode: 34, exploration: 0.134, score: 9, pos: 0.085, angle: -14.13 deg\n",
            "Episode: 35, exploration: 0.127, score: 12, pos: 0.172, angle: -15.04 deg\n",
            "Episode: 36, exploration: 0.12, score: 12, pos: -0.124, angle: 12.66 deg\n",
            "Episode: 37, exploration: 0.115, score: 10, pos: -0.174, angle: 12.77 deg\n",
            "Episode: 38, exploration: 0.111, score: 8, pos: -0.103, angle: 12.5 deg\n",
            "Episode: 39, exploration: 0.106, score: 10, pos: -0.161, angle: 13.58 deg\n",
            "Episode: 40, exploration: 0.102, score: 9, pos: -0.152, angle: 12.0 deg\n",
            "Episode: 41, exploration: 0.097, score: 10, pos: -0.22, angle: 15.0 deg\n",
            "Episode: 42, exploration: 0.093, score: 10, pos: -0.07, angle: 12.74 deg\n",
            "Episode: 43, exploration: 0.089, score: 10, pos: -0.143, angle: 13.55 deg\n",
            "Episode: 44, exploration: 0.085, score: 10, pos: -0.158, angle: 14.18 deg\n",
            "Episode: 45, exploration: 0.081, score: 10, pos: -0.062, angle: 12.87 deg\n",
            "Episode: 46, exploration: 0.078, score: 10, pos: -0.23, angle: 14.63 deg\n",
            "Episode: 47, exploration: 0.075, score: 9, pos: -0.173, angle: 12.11 deg\n",
            "Episode: 48, exploration: 0.071, score: 10, pos: -0.18, angle: 13.61 deg\n",
            "Episode: 49, exploration: 0.068, score: 11, pos: -0.188, angle: 14.28 deg\n",
            "Episode: 50, exploration: 0.065, score: 10, pos: -0.194, angle: 13.01 deg\n",
            "Episode: 51, exploration: 0.062, score: 9, pos: -0.139, angle: 14.56 deg\n",
            "Episode: 52, exploration: 0.06, score: 8, pos: -0.104, angle: 12.57 deg\n",
            "Episode: 53, exploration: 0.057, score: 12, pos: -0.149, angle: 14.01 deg\n",
            "Episode: 54, exploration: 0.054, score: 10, pos: -0.138, angle: 12.9 deg\n",
            "Episode: 55, exploration: 0.052, score: 10, pos: -0.217, angle: 13.84 deg\n",
            "Episode: 56, exploration: 0.05, score: 10, pos: -0.151, angle: 14.31 deg\n",
            "Episode: 57, exploration: 0.047, score: 10, pos: -0.22, angle: 14.96 deg\n",
            "Episode: 58, exploration: 0.045, score: 10, pos: -0.201, angle: 13.14 deg\n",
            "Episode: 59, exploration: 0.043, score: 11, pos: -0.117, angle: 14.18 deg\n",
            "Episode: 60, exploration: 0.041, score: 9, pos: -0.19, angle: 12.48 deg\n",
            "Episode: 61, exploration: 0.04, score: 9, pos: -0.185, angle: 13.12 deg\n",
            "Episode: 62, exploration: 0.038, score: 9, pos: -0.194, angle: 14.72 deg\n",
            "Episode: 63, exploration: 0.037, score: 8, pos: -0.124, angle: 12.23 deg\n",
            "Episode: 64, exploration: 0.035, score: 9, pos: -0.144, angle: 13.53 deg\n",
            "Episode: 65, exploration: 0.034, score: 8, pos: -0.08, angle: 13.22 deg\n",
            "Episode: 66, exploration: 0.033, score: 10, pos: -0.149, angle: 12.8 deg\n",
            "Episode: 67, exploration: 0.031, score: 13, pos: 0.15, angle: -12.95 deg\n",
            "Episode: 68, exploration: 0.029, score: 10, pos: 0.174, angle: -13.15 deg\n",
            "Episode: 69, exploration: 0.028, score: 10, pos: 0.213, angle: -14.91 deg\n",
            "Episode: 70, exploration: 0.027, score: 10, pos: 0.152, angle: -12.19 deg\n",
            "Episode: 71, exploration: 0.026, score: 9, pos: 0.093, angle: -14.18 deg\n",
            "Episode: 72, exploration: 0.024, score: 14, pos: 0.206, angle: -12.93 deg\n",
            "Episode: 73, exploration: 0.023, score: 9, pos: 0.105, angle: -13.37 deg\n",
            "Episode: 74, exploration: 0.021, score: 26, pos: 0.033, angle: -12.93 deg\n",
            "Episode: 75, exploration: 0.02, score: 9, pos: 0.158, angle: -13.37 deg\n",
            "Episode: 76, exploration: 0.017, score: 35, pos: 0.019, angle: -13.68 deg\n",
            "Episode: 77, exploration: 0.014, score: 31, pos: 0.152, angle: -12.46 deg\n",
            "Episode: 78, exploration: 0.013, score: 17, pos: 0.157, angle: -13.15 deg\n",
            "Episode: 79, exploration: 0.011, score: 33, pos: -0.118, angle: 12.06 deg\n",
            "Episode: 80, exploration: 0.011, score: 9, pos: -0.089, angle: 13.24 deg\n",
            "Episode: 81, exploration: 0.01, score: 10, pos: -0.133, angle: 14.4 deg\n",
            "Episode: 82, exploration: 0.01, score: 12, pos: -0.126, angle: 12.62 deg\n",
            "Episode: 83, exploration: 0.01, score: 9, pos: -0.128, angle: 12.97 deg\n",
            "Episode: 84, exploration: 0.01, score: 8, pos: -0.061, angle: 12.91 deg\n",
            "Episode: 85, exploration: 0.01, score: 11, pos: -0.204, angle: 13.41 deg\n",
            "Episode: 86, exploration: 0.01, score: 10, pos: -0.164, angle: 13.03 deg\n",
            "Episode: 87, exploration: 0.01, score: 15, pos: -0.144, angle: 12.64 deg\n",
            "Episode: 88, exploration: 0.01, score: 10, pos: -0.134, angle: 13.3 deg\n",
            "Episode: 89, exploration: 0.01, score: 9, pos: -0.132, angle: 13.28 deg\n",
            "Episode: 90, exploration: 0.01, score: 9, pos: -0.165, angle: 13.77 deg\n",
            "Episode: 91, exploration: 0.01, score: 72, pos: -0.175, angle: -12.05 deg\n",
            "Episode: 92, exploration: 0.01, score: 48, pos: -0.164, angle: -12.38 deg\n",
            "Episode: 93, exploration: 0.01, score: 35, pos: -0.105, angle: -12.18 deg\n",
            "Episode: 94, exploration: 0.01, score: 57, pos: -0.164, angle: -12.11 deg\n",
            "Episode: 95, exploration: 0.01, score: 86, pos: 0.191, angle: 12.06 deg\n",
            "Episode: 96, exploration: 0.01, score: 76, pos: -0.215, angle: -12.15 deg\n",
            "Episode: 97, exploration: 0.01, score: 47, pos: -0.148, angle: -12.01 deg\n",
            "Episode: 98, exploration: 0.01, score: 47, pos: -0.187, angle: -12.1 deg\n",
            "Episode: 99, exploration: 0.01, score: 57, pos: -0.228, angle: -12.29 deg\n",
            "Episode: 100, exploration: 0.01, score: 85, pos: -0.255, angle: -12.09 deg\n"
          ]
        },
        {
          "data": {
            "image/png": "[encoded data removed]",
            "text/plain": [
              "<Figure size 432x288 with 1 Axes>"
            ]
          },
          "metadata": {},
          "output_type": "display_data"
        }
      ],
      "source": [
        "score, lcpos, lcvel, lpangl = cartpole(100)"
      ]
    },
    {
      "cell_type": "code",
      "execution_count": null,
      "metadata": {
        "id": "IdogEvndgUX0"
      },
      "outputs": [],
      "source": [
        "plt.plot(score)"
      ]
    },
    {
      "cell_type": "code",
      "execution_count": null,
      "metadata": {
        "id": "fcAz7Y5kO5ch"
      },
      "outputs": [],
      "source": [
        "plt.plot(lcpos)"
      ]
    },
    {
      "cell_type": "code",
      "execution_count": null,
      "metadata": {
        "id": "ynd8OWK-gWfr"
      },
      "outputs": [],
      "source": [
        "env.observation_space.shape[0]"
      ]
    },
    {
      "cell_type": "code",
      "execution_count": null,
      "metadata": {
        "id": "aXPfB9sYgZSM"
      },
      "outputs": [],
      "source": [
        "env.action_space"
      ]
    },
    {
      "cell_type": "markdown",
      "metadata": {
        "id": "bsxHoE2thI4v"
      },
      "source": [
        "\n",
        "    Observation: \n",
        "        Type: Box(4)\n",
        "\n",
        "    The observation is a `ndarray` with shape `(4,)` with the values corresponding to the following positions and velocities:\n",
        "    | Num | Observation           | Min                  | Max                |\n",
        "    |-----|-----------------------|----------------------|--------------------|\n",
        "    | 0   | Cart Position         | -4.8                 | 4.8                |\n",
        "    | 1   | Cart Velocity         | -Inf                 | Inf                |\n",
        "    | 2   | Pole Angle            | ~ -0.418 rad (-24°)  | ~ 0.418 rad (24°)  |\n",
        "    | 3   | Pole Angular Velocity | -Inf                 | Inf                |\n",
        "    **Note:** While the ranges above denote the possible values for observation space of each element, \n",
        "    it is not reflective of the allowed values of the state space in an unterminated episode. Particularly:\n",
        "    -  The cart x-position (index 0) can be take values between `(-4.8, 4.8)`, but the episode terminates if the cart leaves the `(-2.4, 2.4)` range.\n",
        "    -  The pole angle can be observed between  `(-.418, .418)` radians (or **±24°**), but the episode terminates if the pole angle is not in the range `(-.2095, .2095)` (or **±12°**)\n",
        "\n",
        "\n",
        "    Action:\n",
        "        Type: Discrete(2)\n",
        "        Num\tAction\n",
        "        0\tPush cart to the left\n",
        "        1\tPush cart to the right"
      ]
    },
    {
      "cell_type": "code",
      "execution_count": null,
      "metadata": {
        "id": "AX1NPGC7Pd5U"
      },
      "outputs": [],
      "source": [
        ""
      ]
    }
  ],
  "metadata": {
    "accelerator": "GPU",
    "colab": {
      "collapsed_sections": [],
      "name": "DQL_Cartpole_2.ipynb",
      "provenance": [],
      "include_colab_link": true
    },
    "kernelspec": {
      "display_name": "Python 3",
      "name": "python3"
    },
    "language_info": {
      "name": "python"
    }
  },
  "nbformat": 4,
  "nbformat_minor": 0
}